{
 "cells": [
  {
   "attachments": {},
   "cell_type": "markdown",
   "metadata": {},
   "source": [
    "# Problem 1\n",
    "\n",
    "Kumanda isminde bir sınıf oluşturarak aşağıdaki işlemleri yapmasını sağlayan fonksiyonları sınıf içerisinde yazalım.\n",
    "1. Tv Aç\n",
    "2. Tv Kapat\n",
    "3. Ses Ayarları\n",
    "4. Kanal Ekle\n",
    "5. Kanal Sayısını Öğrenme\n",
    "6. Rastgele Kanala Geçme\n",
    "7. Televizyon Bilgileri\n",
    "\n",
    "\n",
    "Kumandayı kapatmak için q tuşuna basılmalı ve diğer durumlarda hangi işlemi yapmak istediği sorulmalıdır. Her işlemde gerekli fonksiyonunun sınıf içerisinden çağırılması gerekmektedir.\n",
    "\n",
    "random ve time kütüphanesini araştırarak kullanabilirsiniz.\n",
    "\n",
    "Kendi istediğiniz özellikleri eklemekte serbetsiniz."
   ]
  },
  {
   "cell_type": "code",
   "execution_count": 2,
   "metadata": {},
   "outputs": [
    {
     "ename": "IndentationError",
     "evalue": "unindent does not match any outer indentation level (<tokenize>, line 22)",
     "output_type": "error",
     "traceback": [
      "\u001b[1;36m  File \u001b[1;32m<tokenize>:22\u001b[1;36m\u001b[0m\n\u001b[1;33m    else:\u001b[0m\n\u001b[1;37m    ^\u001b[0m\n\u001b[1;31mIndentationError\u001b[0m\u001b[1;31m:\u001b[0m unindent does not match any outer indentation level\n"
     ]
    }
   ],
   "source": [
    "# 1.Problemin Çözümünü Buraya Yazınız\n",
    "import random\n",
    "import time \n",
    "\n",
    "class kumanda():\n",
    "    def __init__(self,tvdurum = \"kapalı\", tvses = 0, kanalListesi = [\"TRT\"],kanal = \"Trt\"):\n",
    "        self.tvdurum = tvdurum\n",
    "        self.tvses = tvses\n",
    "        self.kanalListesi = kanalListesi\n",
    "        self.kanal = kanal\n",
    "\n",
    "    def tvaç(self):\n",
    "        if (self.tvdurum == \"Açık\"):\n",
    "            print(\"Televizyon zaten açık\")\n",
    "        else:\n",
    "            print(\"Televizyon açılıyor\")\n",
    "            self.tvdurum = \"Açık\"\n",
    "\n",
    "    def tvkapat(self):  \n",
    "         if (self.tvdurum == \"Kapalı\"):\n",
    "            print(\"Televizyon zaten kapalı\")\n",
    "        else:\n",
    "            print(\"Televizyon kapanıyor\")\n",
    "            self.tvdurum = \"Kapalı\"\n",
    "    \n",
    "    def sesayarları(ses):\n",
    "        While True:\n",
    "            cevap = input(\"sesi azalt: '<' \\nÇıkış : çıkış\")\n",
    "            if (cevap == \"<\"):\n",
    "                if (self.tvses !=0):\n",
    "                    self.tvses -=1\n",
    "                    print(\"ses\",self.tvses)\n",
    "            elif (cevap == \">\"):\n",
    "                if (self.tvses !=20):\n",
    "                    self.tvses +=1\n",
    "                    print(\"ses\",self.tvses)     \n",
    "            else:\n",
    "                print(\"ses güncellendi\", self.tvses)\n",
    "                break\n",
    "\n",
    "    def kanalekle(self.kanalismi):\n",
    "        print(\"Kanal ekleniyor\")\n",
    "        time.sleep(1)\n",
    "        self.kanalListesi.append(kanalismi)\n",
    "        print(\"Kanal eklendi\")\n",
    "\n",
    "    def rastegelekanal(self):\n",
    "        rastegele = random.randint(0,len(self.kanalListesi)-1)\n",
    "        self.kanal = self.kanalListesi[rastgele]\n",
    "        print(\"Şu anki kanal:\", self.kanal)\n",
    "\n",
    "    def __len__(self):\n",
    "        return len(self.kanalListesi)\n",
    "\n",
    "    def __str__(self):\n",
    "\n",
    "        return \"Tvdurum: {}\\n TV ses: {}\\n Kanal Listesi: {}\\n Şu anki kanal: {}\\n\".format(self.tvdurum,self.tvses,self.kanalListesi,self.kanal)  \n",
    "\n",
    "kumande = kumanda()\n",
    "\n",
    "         \n",
    "          "
   ]
  }
 ],
 "metadata": {
  "kernelspec": {
   "display_name": "Python 3",
   "language": "python",
   "name": "python3"
  },
  "language_info": {
   "codemirror_mode": {
    "name": "ipython",
    "version": 3
   },
   "file_extension": ".py",
   "mimetype": "text/x-python",
   "name": "python",
   "nbconvert_exporter": "python",
   "pygments_lexer": "ipython3",
   "version": "3.11.1"
  },
  "orig_nbformat": 4,
  "vscode": {
   "interpreter": {
    "hash": "5026d2d6e7aaaaba093def813beadff083d8733e4a511af01735cbabd156995d"
   }
  }
 },
 "nbformat": 4,
 "nbformat_minor": 2
}
