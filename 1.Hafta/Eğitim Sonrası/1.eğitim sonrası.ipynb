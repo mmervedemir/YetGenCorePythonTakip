{
 "cells": [
  {
   "cell_type": "code",
   "execution_count": null,
   "metadata": {},
   "outputs": [],
   "source": [
    "1. Hafta Eğitim Sonrası Uygulamalar\n",
    "\n",
    "- Eğitim Sonrası Ödev\n"
   ]
  }
 ],
 "metadata": {
  "kernelspec": {
   "display_name": "Python 3",
   "language": "python",
   "name": "python3"
  },
  "language_info": {
   "name": "python",
   "version": "3.11.1"
  },
  "orig_nbformat": 4,
  "vscode": {
   "interpreter": {
    "hash": "89307b085838fcd7b6af5eecf1621c7bcb71ef16164f0d3994085e97e6b29d67"
   }
  }
 },
 "nbformat": 4,
 "nbformat_minor": 2
}
