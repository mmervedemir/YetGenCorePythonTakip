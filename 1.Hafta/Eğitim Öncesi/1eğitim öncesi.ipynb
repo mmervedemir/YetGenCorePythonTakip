{
 "cells": [
  {
   "cell_type": "code",
   "execution_count": 1,
   "metadata": {},
   "outputs": [
    {
     "ename": "SyntaxError",
     "evalue": "invalid syntax (670870702.py, line 1)",
     "output_type": "error",
     "traceback": [
      "\u001b[1;36m  Cell \u001b[1;32mIn[1], line 1\u001b[1;36m\u001b[0m\n\u001b[1;33m    *1. Hafta Eğitim Öncesi Uygulamalar*\u001b[0m\n\u001b[1;37m        ^\u001b[0m\n\u001b[1;31mSyntaxError\u001b[0m\u001b[1;31m:\u001b[0m invalid syntax\n"
     ]
    }
   ],
   "source": [
    "1. Hafta Eğitim Öncesi Uygulamalar\n",
    "\n",
    "\n",
    "- Kodlama ve Pythona Giriş\n",
    "- Python ve VS Code Kurulumu\n",
    "- Git Nedir ve Kurulumu\n",
    "- GitHub Nedir, Hesap Oluşturma ve Kavramlar \n",
    "- Markdown nedir, Readme.md Nasıl Yazılır\n",
    "\n",
    "-1. Hafta Eğitim Öncesi Uygulamaları Tamamlandı\n",
    "\n",
    "\n"
   ]
  }
 ],
 "metadata": {
  "kernelspec": {
   "display_name": "Python 3",
   "language": "python",
   "name": "python3"
  },
  "language_info": {
   "codemirror_mode": {
    "name": "ipython",
    "version": 3
   },
   "file_extension": ".py",
   "mimetype": "text/x-python",
   "name": "python",
   "nbconvert_exporter": "python",
   "pygments_lexer": "ipython3",
   "version": "3.11.1"
  },
  "orig_nbformat": 4,
  "vscode": {
   "interpreter": {
    "hash": "89307b085838fcd7b6af5eecf1621c7bcb71ef16164f0d3994085e97e6b29d67"
   }
  }
 },
 "nbformat": 4,
 "nbformat_minor": 2
}
